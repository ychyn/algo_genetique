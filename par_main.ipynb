{
 "cells": [
  {
   "cell_type": "markdown",
   "id": "cec6f290",
   "metadata": {},
   "source": [
    "\"\"\"\n",
    "This is our oroject mainfile\n",
    "\"\"\""
   ]
  },
  {
   "cell_type": "markdown",
   "id": "868b56c7",
   "metadata": {},
   "source": [
    "Modules of python\n",
    "-----------------"
   ]
  },
  {
   "cell_type": "code",
   "execution_count": 179,
   "id": "2b001f89",
   "metadata": {
    "vscode": {
     "languageId": "shellscript"
    }
   },
   "outputs": [],
   "source": [
    "import numpy as np\n",
    "import matplotlib.pyplot as plt\n",
    "import pandas as pd\n",
    "import seaborn as sns\n",
    "from random import randint"
   ]
  },
  {
   "cell_type": "markdown",
   "id": "1f29802f",
   "metadata": {},
   "source": [
    "Modules with own classes\n",
    "------------------------"
   ]
  },
  {
   "cell_type": "code",
   "execution_count": 180,
   "id": "7dcdf73a",
   "metadata": {
    "vscode": {
     "languageId": "shellscript"
    }
   },
   "outputs": [],
   "source": [
    "from glassdata import GlassData\n",
    "from network import NeuralNetwork"
   ]
  },
  {
   "cell_type": "markdown",
   "id": "eb448e27",
   "metadata": {},
   "source": [
    "---------------------------------------\n",
    "Data-set on rho and ANN on molar volume\n",
    "---------------------------------------"
   ]
  },
  {
   "cell_type": "code",
   "execution_count": 181,
   "id": "77bd55e9",
   "metadata": {
    "vscode": {
     "languageId": "shellscript"
    }
   },
   "outputs": [
    {
     "name": "stdout",
     "output_type": "stream",
     "text": [
      "**************\n",
      "Finished loading dataset\n",
      "Nb of samples: 64421\n",
      "Nb of components: 20\n",
      "**************\n",
      "Finished loading dataset\n",
      "Nb of samples: 64421\n",
      "Nb of components: 20\n"
     ]
    }
   ],
   "source": [
    "# Dataset of rho\n",
    "filedbrho='DataBase/rho20oxides.csv'\n",
    "dbrho=GlassData(filedbrho)\n",
    "dbrho.info()\n",
    "dbrho.bounds()"
   ]
  },
  {
   "cell_type": "code",
   "execution_count": 182,
   "id": "f1a4fddd",
   "metadata": {
    "vscode": {
     "languageId": "shellscript"
    }
   },
   "outputs": [],
   "source": [
    "# Determination of the molar volume\n",
    "dbrho.oxidemolarmass()\n",
    "dbrho.molarmass()\n",
    "dbrho.y=dbrho.MolarM/dbrho.y\n",
    "dbrho.normalize_y()"
   ]
  },
  {
   "cell_type": "code",
   "execution_count": 183,
   "id": "bae2946b",
   "metadata": {
    "vscode": {
     "languageId": "shellscript"
    }
   },
   "outputs": [
    {
     "name": "stderr",
     "output_type": "stream",
     "text": [
      "WARNING:absl:Compiled the loaded model, but the compiled metrics have yet to be built. `model.compile_metrics` will be empty until you train or evaluate the model.\n",
      "WARNING:absl:Error in loading the saved optimizer state. As a result, your model is starting with a freshly initialized optimizer.\n"
     ]
    },
    {
     "name": "stdout",
     "output_type": "stream",
     "text": [
      "**************\n"
     ]
    },
    {
     "data": {
      "text/html": [
       "<pre style=\"white-space:pre;overflow-x:auto;line-height:normal;font-family:Menlo,'DejaVu Sans Mono',consolas,'Courier New',monospace\"><span style=\"font-weight: bold\">Model: \"sequential_181\"</span>\n",
       "</pre>\n"
      ],
      "text/plain": [
       "\u001b[1mModel: \"sequential_181\"\u001b[0m\n"
      ]
     },
     "metadata": {},
     "output_type": "display_data"
    },
    {
     "data": {
      "text/html": [
       "<pre style=\"white-space:pre;overflow-x:auto;line-height:normal;font-family:Menlo,'DejaVu Sans Mono',consolas,'Courier New',monospace\">┏━━━━━━━━━━━━━━━━━━━━━━━━━━━━━━━━━┳━━━━━━━━━━━━━━━━━━━━━━━━┳━━━━━━━━━━━━━━━┓\n",
       "┃<span style=\"font-weight: bold\"> Layer (type)                    </span>┃<span style=\"font-weight: bold\"> Output Shape           </span>┃<span style=\"font-weight: bold\">       Param # </span>┃\n",
       "┡━━━━━━━━━━━━━━━━━━━━━━━━━━━━━━━━━╇━━━━━━━━━━━━━━━━━━━━━━━━╇━━━━━━━━━━━━━━━┩\n",
       "│ dense_487 (<span style=\"color: #0087ff; text-decoration-color: #0087ff\">Dense</span>)               │ (<span style=\"color: #00d7ff; text-decoration-color: #00d7ff\">None</span>, <span style=\"color: #00af00; text-decoration-color: #00af00\">20</span>)             │           <span style=\"color: #00af00; text-decoration-color: #00af00\">420</span> │\n",
       "├─────────────────────────────────┼────────────────────────┼───────────────┤\n",
       "│ dense_488 (<span style=\"color: #0087ff; text-decoration-color: #0087ff\">Dense</span>)               │ (<span style=\"color: #00d7ff; text-decoration-color: #00d7ff\">None</span>, <span style=\"color: #00af00; text-decoration-color: #00af00\">20</span>)             │           <span style=\"color: #00af00; text-decoration-color: #00af00\">420</span> │\n",
       "├─────────────────────────────────┼────────────────────────┼───────────────┤\n",
       "│ dense_489 (<span style=\"color: #0087ff; text-decoration-color: #0087ff\">Dense</span>)               │ (<span style=\"color: #00d7ff; text-decoration-color: #00d7ff\">None</span>, <span style=\"color: #00af00; text-decoration-color: #00af00\">20</span>)             │           <span style=\"color: #00af00; text-decoration-color: #00af00\">420</span> │\n",
       "├─────────────────────────────────┼────────────────────────┼───────────────┤\n",
       "│ dense_490 (<span style=\"color: #0087ff; text-decoration-color: #0087ff\">Dense</span>)               │ (<span style=\"color: #00d7ff; text-decoration-color: #00d7ff\">None</span>, <span style=\"color: #00af00; text-decoration-color: #00af00\">1</span>)              │            <span style=\"color: #00af00; text-decoration-color: #00af00\">21</span> │\n",
       "└─────────────────────────────────┴────────────────────────┴───────────────┘\n",
       "</pre>\n"
      ],
      "text/plain": [
       "┏━━━━━━━━━━━━━━━━━━━━━━━━━━━━━━━━━┳━━━━━━━━━━━━━━━━━━━━━━━━┳━━━━━━━━━━━━━━━┓\n",
       "┃\u001b[1m \u001b[0m\u001b[1mLayer (type)                   \u001b[0m\u001b[1m \u001b[0m┃\u001b[1m \u001b[0m\u001b[1mOutput Shape          \u001b[0m\u001b[1m \u001b[0m┃\u001b[1m \u001b[0m\u001b[1m      Param #\u001b[0m\u001b[1m \u001b[0m┃\n",
       "┡━━━━━━━━━━━━━━━━━━━━━━━━━━━━━━━━━╇━━━━━━━━━━━━━━━━━━━━━━━━╇━━━━━━━━━━━━━━━┩\n",
       "│ dense_487 (\u001b[38;5;33mDense\u001b[0m)               │ (\u001b[38;5;45mNone\u001b[0m, \u001b[38;5;34m20\u001b[0m)             │           \u001b[38;5;34m420\u001b[0m │\n",
       "├─────────────────────────────────┼────────────────────────┼───────────────┤\n",
       "│ dense_488 (\u001b[38;5;33mDense\u001b[0m)               │ (\u001b[38;5;45mNone\u001b[0m, \u001b[38;5;34m20\u001b[0m)             │           \u001b[38;5;34m420\u001b[0m │\n",
       "├─────────────────────────────────┼────────────────────────┼───────────────┤\n",
       "│ dense_489 (\u001b[38;5;33mDense\u001b[0m)               │ (\u001b[38;5;45mNone\u001b[0m, \u001b[38;5;34m20\u001b[0m)             │           \u001b[38;5;34m420\u001b[0m │\n",
       "├─────────────────────────────────┼────────────────────────┼───────────────┤\n",
       "│ dense_490 (\u001b[38;5;33mDense\u001b[0m)               │ (\u001b[38;5;45mNone\u001b[0m, \u001b[38;5;34m1\u001b[0m)              │            \u001b[38;5;34m21\u001b[0m │\n",
       "└─────────────────────────────────┴────────────────────────┴───────────────┘\n"
      ]
     },
     "metadata": {},
     "output_type": "display_data"
    },
    {
     "data": {
      "text/html": [
       "<pre style=\"white-space:pre;overflow-x:auto;line-height:normal;font-family:Menlo,'DejaVu Sans Mono',consolas,'Courier New',monospace\"><span style=\"font-weight: bold\"> Total params: </span><span style=\"color: #00af00; text-decoration-color: #00af00\">1,283</span> (5.02 KB)\n",
       "</pre>\n"
      ],
      "text/plain": [
       "\u001b[1m Total params: \u001b[0m\u001b[38;5;34m1,283\u001b[0m (5.02 KB)\n"
      ]
     },
     "metadata": {},
     "output_type": "display_data"
    },
    {
     "data": {
      "text/html": [
       "<pre style=\"white-space:pre;overflow-x:auto;line-height:normal;font-family:Menlo,'DejaVu Sans Mono',consolas,'Courier New',monospace\"><span style=\"font-weight: bold\"> Trainable params: </span><span style=\"color: #00af00; text-decoration-color: #00af00\">1,281</span> (5.00 KB)\n",
       "</pre>\n"
      ],
      "text/plain": [
       "\u001b[1m Trainable params: \u001b[0m\u001b[38;5;34m1,281\u001b[0m (5.00 KB)\n"
      ]
     },
     "metadata": {},
     "output_type": "display_data"
    },
    {
     "data": {
      "text/html": [
       "<pre style=\"white-space:pre;overflow-x:auto;line-height:normal;font-family:Menlo,'DejaVu Sans Mono',consolas,'Courier New',monospace\"><span style=\"font-weight: bold\"> Non-trainable params: </span><span style=\"color: #00af00; text-decoration-color: #00af00\">0</span> (0.00 B)\n",
       "</pre>\n"
      ],
      "text/plain": [
       "\u001b[1m Non-trainable params: \u001b[0m\u001b[38;5;34m0\u001b[0m (0.00 B)\n"
      ]
     },
     "metadata": {},
     "output_type": "display_data"
    },
    {
     "data": {
      "text/html": [
       "<pre style=\"white-space:pre;overflow-x:auto;line-height:normal;font-family:Menlo,'DejaVu Sans Mono',consolas,'Courier New',monospace\"><span style=\"font-weight: bold\"> Optimizer params: </span><span style=\"color: #00af00; text-decoration-color: #00af00\">2</span> (12.00 B)\n",
       "</pre>\n"
      ],
      "text/plain": [
       "\u001b[1m Optimizer params: \u001b[0m\u001b[38;5;34m2\u001b[0m (12.00 B)\n"
      ]
     },
     "metadata": {},
     "output_type": "display_data"
    }
   ],
   "source": [
    "# Loading of the ANN model\n",
    "arch=[20,20,20]\n",
    "nnmolvol=NeuralNetwork(dbrho.noxide,arch,'gelu','linear')\n",
    "nnmolvol.compile(3.e-4)\n",
    "nnmolvol.ArchName(arch)\n",
    "nnmolvol.load('Models/nnmolarvol'+nnmolvol.namearch+'.h5')\n",
    "nnmolvol.info()"
   ]
  },
  {
   "cell_type": "markdown",
   "id": "6bdac98d",
   "metadata": {},
   "source": [
    "------------------------------------------------\n",
    "Data-set on Young's modulus and ANN on Vt=E/(2G)\n",
    "------------------------------------------------"
   ]
  },
  {
   "cell_type": "code",
   "execution_count": 184,
   "id": "261c4fe3",
   "metadata": {
    "vscode": {
     "languageId": "shellscript"
    }
   },
   "outputs": [
    {
     "name": "stdout",
     "output_type": "stream",
     "text": [
      "**************\n",
      "Finished loading dataset\n",
      "Nb of samples: 10846\n",
      "Nb of components: 20\n",
      "**************\n",
      "Finished loading dataset\n",
      "Nb of samples: 10846\n",
      "Nb of components: 20\n"
     ]
    }
   ],
   "source": [
    "filedbE='DataBase/E20oxides.csv'\n",
    "dbE=GlassData(filedbE)\n",
    "dbE.info()\n",
    "dbE.bounds()"
   ]
  },
  {
   "cell_type": "markdown",
   "id": "768d1e17",
   "metadata": {},
   "source": [
    "------------------------------\n",
    "Loading of dissociation energy\n",
    "------------------------------"
   ]
  },
  {
   "cell_type": "code",
   "execution_count": 185,
   "id": "505d9fb9",
   "metadata": {
    "vscode": {
     "languageId": "shellscript"
    }
   },
   "outputs": [],
   "source": [
    "datadisso=pd.read_csv('dissociationenergy.csv')\n",
    "G=np.zeros(dbE.nsample)\n",
    "for i in range(dbE.nsample):\n",
    "    G[i]=np.sum(datadisso['G'].values*dbE.x[i,:])\n",
    "#end for"
   ]
  },
  {
   "cell_type": "code",
   "execution_count": 186,
   "id": "d9c81555",
   "metadata": {
    "vscode": {
     "languageId": "shellscript"
    }
   },
   "outputs": [],
   "source": [
    "# Determination of E/G and normalization\n",
    "dbE.y=dbE.y/(2.*G)\n",
    "dbE.normalize_y()"
   ]
  },
  {
   "cell_type": "markdown",
   "id": "f885b98b",
   "metadata": {},
   "source": [
    "------------------------------\n",
    "Loading of the ANN model on Vt\n",
    "------------------------------"
   ]
  },
  {
   "cell_type": "code",
   "execution_count": 187,
   "id": "891820e3",
   "metadata": {
    "vscode": {
     "languageId": "shellscript"
    }
   },
   "outputs": [
    {
     "name": "stderr",
     "output_type": "stream",
     "text": [
      "WARNING:absl:Compiled the loaded model, but the compiled metrics have yet to be built. `model.compile_metrics` will be empty until you train or evaluate the model.\n",
      "WARNING:absl:Error in loading the saved optimizer state. As a result, your model is starting with a freshly initialized optimizer.\n"
     ]
    },
    {
     "name": "stdout",
     "output_type": "stream",
     "text": [
      "**************\n"
     ]
    },
    {
     "data": {
      "text/html": [
       "<pre style=\"white-space:pre;overflow-x:auto;line-height:normal;font-family:Menlo,'DejaVu Sans Mono',consolas,'Courier New',monospace\"><span style=\"font-weight: bold\">Model: \"sequential_262\"</span>\n",
       "</pre>\n"
      ],
      "text/plain": [
       "\u001b[1mModel: \"sequential_262\"\u001b[0m\n"
      ]
     },
     "metadata": {},
     "output_type": "display_data"
    },
    {
     "data": {
      "text/html": [
       "<pre style=\"white-space:pre;overflow-x:auto;line-height:normal;font-family:Menlo,'DejaVu Sans Mono',consolas,'Courier New',monospace\">┏━━━━━━━━━━━━━━━━━━━━━━━━━━━━━━━━━┳━━━━━━━━━━━━━━━━━━━━━━━━┳━━━━━━━━━━━━━━━┓\n",
       "┃<span style=\"font-weight: bold\"> Layer (type)                    </span>┃<span style=\"font-weight: bold\"> Output Shape           </span>┃<span style=\"font-weight: bold\">       Param # </span>┃\n",
       "┡━━━━━━━━━━━━━━━━━━━━━━━━━━━━━━━━━╇━━━━━━━━━━━━━━━━━━━━━━━━╇━━━━━━━━━━━━━━━┩\n",
       "│ dense_986 (<span style=\"color: #0087ff; text-decoration-color: #0087ff\">Dense</span>)               │ (<span style=\"color: #00d7ff; text-decoration-color: #00d7ff\">None</span>, <span style=\"color: #00af00; text-decoration-color: #00af00\">20</span>)             │           <span style=\"color: #00af00; text-decoration-color: #00af00\">420</span> │\n",
       "├─────────────────────────────────┼────────────────────────┼───────────────┤\n",
       "│ dense_987 (<span style=\"color: #0087ff; text-decoration-color: #0087ff\">Dense</span>)               │ (<span style=\"color: #00d7ff; text-decoration-color: #00d7ff\">None</span>, <span style=\"color: #00af00; text-decoration-color: #00af00\">20</span>)             │           <span style=\"color: #00af00; text-decoration-color: #00af00\">420</span> │\n",
       "├─────────────────────────────────┼────────────────────────┼───────────────┤\n",
       "│ dense_988 (<span style=\"color: #0087ff; text-decoration-color: #0087ff\">Dense</span>)               │ (<span style=\"color: #00d7ff; text-decoration-color: #00d7ff\">None</span>, <span style=\"color: #00af00; text-decoration-color: #00af00\">20</span>)             │           <span style=\"color: #00af00; text-decoration-color: #00af00\">420</span> │\n",
       "├─────────────────────────────────┼────────────────────────┼───────────────┤\n",
       "│ dense_989 (<span style=\"color: #0087ff; text-decoration-color: #0087ff\">Dense</span>)               │ (<span style=\"color: #00d7ff; text-decoration-color: #00d7ff\">None</span>, <span style=\"color: #00af00; text-decoration-color: #00af00\">1</span>)              │            <span style=\"color: #00af00; text-decoration-color: #00af00\">21</span> │\n",
       "└─────────────────────────────────┴────────────────────────┴───────────────┘\n",
       "</pre>\n"
      ],
      "text/plain": [
       "┏━━━━━━━━━━━━━━━━━━━━━━━━━━━━━━━━━┳━━━━━━━━━━━━━━━━━━━━━━━━┳━━━━━━━━━━━━━━━┓\n",
       "┃\u001b[1m \u001b[0m\u001b[1mLayer (type)                   \u001b[0m\u001b[1m \u001b[0m┃\u001b[1m \u001b[0m\u001b[1mOutput Shape          \u001b[0m\u001b[1m \u001b[0m┃\u001b[1m \u001b[0m\u001b[1m      Param #\u001b[0m\u001b[1m \u001b[0m┃\n",
       "┡━━━━━━━━━━━━━━━━━━━━━━━━━━━━━━━━━╇━━━━━━━━━━━━━━━━━━━━━━━━╇━━━━━━━━━━━━━━━┩\n",
       "│ dense_986 (\u001b[38;5;33mDense\u001b[0m)               │ (\u001b[38;5;45mNone\u001b[0m, \u001b[38;5;34m20\u001b[0m)             │           \u001b[38;5;34m420\u001b[0m │\n",
       "├─────────────────────────────────┼────────────────────────┼───────────────┤\n",
       "│ dense_987 (\u001b[38;5;33mDense\u001b[0m)               │ (\u001b[38;5;45mNone\u001b[0m, \u001b[38;5;34m20\u001b[0m)             │           \u001b[38;5;34m420\u001b[0m │\n",
       "├─────────────────────────────────┼────────────────────────┼───────────────┤\n",
       "│ dense_988 (\u001b[38;5;33mDense\u001b[0m)               │ (\u001b[38;5;45mNone\u001b[0m, \u001b[38;5;34m20\u001b[0m)             │           \u001b[38;5;34m420\u001b[0m │\n",
       "├─────────────────────────────────┼────────────────────────┼───────────────┤\n",
       "│ dense_989 (\u001b[38;5;33mDense\u001b[0m)               │ (\u001b[38;5;45mNone\u001b[0m, \u001b[38;5;34m1\u001b[0m)              │            \u001b[38;5;34m21\u001b[0m │\n",
       "└─────────────────────────────────┴────────────────────────┴───────────────┘\n"
      ]
     },
     "metadata": {},
     "output_type": "display_data"
    },
    {
     "data": {
      "text/html": [
       "<pre style=\"white-space:pre;overflow-x:auto;line-height:normal;font-family:Menlo,'DejaVu Sans Mono',consolas,'Courier New',monospace\"><span style=\"font-weight: bold\"> Total params: </span><span style=\"color: #00af00; text-decoration-color: #00af00\">1,283</span> (5.02 KB)\n",
       "</pre>\n"
      ],
      "text/plain": [
       "\u001b[1m Total params: \u001b[0m\u001b[38;5;34m1,283\u001b[0m (5.02 KB)\n"
      ]
     },
     "metadata": {},
     "output_type": "display_data"
    },
    {
     "data": {
      "text/html": [
       "<pre style=\"white-space:pre;overflow-x:auto;line-height:normal;font-family:Menlo,'DejaVu Sans Mono',consolas,'Courier New',monospace\"><span style=\"font-weight: bold\"> Trainable params: </span><span style=\"color: #00af00; text-decoration-color: #00af00\">1,281</span> (5.00 KB)\n",
       "</pre>\n"
      ],
      "text/plain": [
       "\u001b[1m Trainable params: \u001b[0m\u001b[38;5;34m1,281\u001b[0m (5.00 KB)\n"
      ]
     },
     "metadata": {},
     "output_type": "display_data"
    },
    {
     "data": {
      "text/html": [
       "<pre style=\"white-space:pre;overflow-x:auto;line-height:normal;font-family:Menlo,'DejaVu Sans Mono',consolas,'Courier New',monospace\"><span style=\"font-weight: bold\"> Non-trainable params: </span><span style=\"color: #00af00; text-decoration-color: #00af00\">0</span> (0.00 B)\n",
       "</pre>\n"
      ],
      "text/plain": [
       "\u001b[1m Non-trainable params: \u001b[0m\u001b[38;5;34m0\u001b[0m (0.00 B)\n"
      ]
     },
     "metadata": {},
     "output_type": "display_data"
    },
    {
     "data": {
      "text/html": [
       "<pre style=\"white-space:pre;overflow-x:auto;line-height:normal;font-family:Menlo,'DejaVu Sans Mono',consolas,'Courier New',monospace\"><span style=\"font-weight: bold\"> Optimizer params: </span><span style=\"color: #00af00; text-decoration-color: #00af00\">2</span> (12.00 B)\n",
       "</pre>\n"
      ],
      "text/plain": [
       "\u001b[1m Optimizer params: \u001b[0m\u001b[38;5;34m2\u001b[0m (12.00 B)\n"
      ]
     },
     "metadata": {},
     "output_type": "display_data"
    }
   ],
   "source": [
    "arch=[20,20,20]\n",
    "nnmodelEsG=NeuralNetwork(dbE.noxide,arch,'gelu','linear')\n",
    "nnmodelEsG.compile(1.e-4)\n",
    "nnmodelEsG.ArchName(arch)\n",
    "nnmodelEsG.load('Models/nnEsG'+nnmodelEsG.namearch+'.h5')\n",
    "nnmodelEsG.info()"
   ]
  },
  {
   "cell_type": "markdown",
   "id": "306078e3",
   "metadata": {},
   "source": [
    "---------------------------------------\n",
    "Data-set on Tannealing=Tg and ANN model\n",
    "---------------------------------------"
   ]
  },
  {
   "cell_type": "code",
   "execution_count": 188,
   "id": "c2d79263",
   "metadata": {
    "vscode": {
     "languageId": "shellscript"
    }
   },
   "outputs": [
    {
     "name": "stdout",
     "output_type": "stream",
     "text": [
      "**************\n",
      "Finished loading dataset\n",
      "Nb of samples: 6612\n",
      "Nb of components: 20\n"
     ]
    }
   ],
   "source": [
    "# Data-set of Tannealing\n",
    "filedbTannealing='DataBase/Tannealing20oxides.csv'\n",
    "dbTannealing=GlassData(filedbTannealing)\n",
    "dbTannealing.bounds()\n",
    "dbTannealing.normalize_y()"
   ]
  },
  {
   "cell_type": "code",
   "execution_count": 189,
   "id": "0dc16fd6",
   "metadata": {
    "vscode": {
     "languageId": "shellscript"
    }
   },
   "outputs": [
    {
     "name": "stderr",
     "output_type": "stream",
     "text": [
      "WARNING:absl:Compiled the loaded model, but the compiled metrics have yet to be built. `model.compile_metrics` will be empty until you train or evaluate the model.\n",
      "WARNING:absl:Error in loading the saved optimizer state. As a result, your model is starting with a freshly initialized optimizer.\n"
     ]
    },
    {
     "name": "stdout",
     "output_type": "stream",
     "text": [
      "**************\n"
     ]
    },
    {
     "data": {
      "text/html": [
       "<pre style=\"white-space:pre;overflow-x:auto;line-height:normal;font-family:Menlo,'DejaVu Sans Mono',consolas,'Courier New',monospace\"><span style=\"font-weight: bold\">Model: \"sequential_187\"</span>\n",
       "</pre>\n"
      ],
      "text/plain": [
       "\u001b[1mModel: \"sequential_187\"\u001b[0m\n"
      ]
     },
     "metadata": {},
     "output_type": "display_data"
    },
    {
     "data": {
      "text/html": [
       "<pre style=\"white-space:pre;overflow-x:auto;line-height:normal;font-family:Menlo,'DejaVu Sans Mono',consolas,'Courier New',monospace\">┏━━━━━━━━━━━━━━━━━━━━━━━━━━━━━━━━━┳━━━━━━━━━━━━━━━━━━━━━━━━┳━━━━━━━━━━━━━━━┓\n",
       "┃<span style=\"font-weight: bold\"> Layer (type)                    </span>┃<span style=\"font-weight: bold\"> Output Shape           </span>┃<span style=\"font-weight: bold\">       Param # </span>┃\n",
       "┡━━━━━━━━━━━━━━━━━━━━━━━━━━━━━━━━━╇━━━━━━━━━━━━━━━━━━━━━━━━╇━━━━━━━━━━━━━━━┩\n",
       "│ dense_585 (<span style=\"color: #0087ff; text-decoration-color: #0087ff\">Dense</span>)               │ (<span style=\"color: #00d7ff; text-decoration-color: #00d7ff\">None</span>, <span style=\"color: #00af00; text-decoration-color: #00af00\">20</span>)             │           <span style=\"color: #00af00; text-decoration-color: #00af00\">420</span> │\n",
       "├─────────────────────────────────┼────────────────────────┼───────────────┤\n",
       "│ dense_586 (<span style=\"color: #0087ff; text-decoration-color: #0087ff\">Dense</span>)               │ (<span style=\"color: #00d7ff; text-decoration-color: #00d7ff\">None</span>, <span style=\"color: #00af00; text-decoration-color: #00af00\">20</span>)             │           <span style=\"color: #00af00; text-decoration-color: #00af00\">420</span> │\n",
       "├─────────────────────────────────┼────────────────────────┼───────────────┤\n",
       "│ dense_587 (<span style=\"color: #0087ff; text-decoration-color: #0087ff\">Dense</span>)               │ (<span style=\"color: #00d7ff; text-decoration-color: #00d7ff\">None</span>, <span style=\"color: #00af00; text-decoration-color: #00af00\">20</span>)             │           <span style=\"color: #00af00; text-decoration-color: #00af00\">420</span> │\n",
       "├─────────────────────────────────┼────────────────────────┼───────────────┤\n",
       "│ dense_588 (<span style=\"color: #0087ff; text-decoration-color: #0087ff\">Dense</span>)               │ (<span style=\"color: #00d7ff; text-decoration-color: #00d7ff\">None</span>, <span style=\"color: #00af00; text-decoration-color: #00af00\">1</span>)              │            <span style=\"color: #00af00; text-decoration-color: #00af00\">21</span> │\n",
       "└─────────────────────────────────┴────────────────────────┴───────────────┘\n",
       "</pre>\n"
      ],
      "text/plain": [
       "┏━━━━━━━━━━━━━━━━━━━━━━━━━━━━━━━━━┳━━━━━━━━━━━━━━━━━━━━━━━━┳━━━━━━━━━━━━━━━┓\n",
       "┃\u001b[1m \u001b[0m\u001b[1mLayer (type)                   \u001b[0m\u001b[1m \u001b[0m┃\u001b[1m \u001b[0m\u001b[1mOutput Shape          \u001b[0m\u001b[1m \u001b[0m┃\u001b[1m \u001b[0m\u001b[1m      Param #\u001b[0m\u001b[1m \u001b[0m┃\n",
       "┡━━━━━━━━━━━━━━━━━━━━━━━━━━━━━━━━━╇━━━━━━━━━━━━━━━━━━━━━━━━╇━━━━━━━━━━━━━━━┩\n",
       "│ dense_585 (\u001b[38;5;33mDense\u001b[0m)               │ (\u001b[38;5;45mNone\u001b[0m, \u001b[38;5;34m20\u001b[0m)             │           \u001b[38;5;34m420\u001b[0m │\n",
       "├─────────────────────────────────┼────────────────────────┼───────────────┤\n",
       "│ dense_586 (\u001b[38;5;33mDense\u001b[0m)               │ (\u001b[38;5;45mNone\u001b[0m, \u001b[38;5;34m20\u001b[0m)             │           \u001b[38;5;34m420\u001b[0m │\n",
       "├─────────────────────────────────┼────────────────────────┼───────────────┤\n",
       "│ dense_587 (\u001b[38;5;33mDense\u001b[0m)               │ (\u001b[38;5;45mNone\u001b[0m, \u001b[38;5;34m20\u001b[0m)             │           \u001b[38;5;34m420\u001b[0m │\n",
       "├─────────────────────────────────┼────────────────────────┼───────────────┤\n",
       "│ dense_588 (\u001b[38;5;33mDense\u001b[0m)               │ (\u001b[38;5;45mNone\u001b[0m, \u001b[38;5;34m1\u001b[0m)              │            \u001b[38;5;34m21\u001b[0m │\n",
       "└─────────────────────────────────┴────────────────────────┴───────────────┘\n"
      ]
     },
     "metadata": {},
     "output_type": "display_data"
    },
    {
     "data": {
      "text/html": [
       "<pre style=\"white-space:pre;overflow-x:auto;line-height:normal;font-family:Menlo,'DejaVu Sans Mono',consolas,'Courier New',monospace\"><span style=\"font-weight: bold\"> Total params: </span><span style=\"color: #00af00; text-decoration-color: #00af00\">1,283</span> (5.02 KB)\n",
       "</pre>\n"
      ],
      "text/plain": [
       "\u001b[1m Total params: \u001b[0m\u001b[38;5;34m1,283\u001b[0m (5.02 KB)\n"
      ]
     },
     "metadata": {},
     "output_type": "display_data"
    },
    {
     "data": {
      "text/html": [
       "<pre style=\"white-space:pre;overflow-x:auto;line-height:normal;font-family:Menlo,'DejaVu Sans Mono',consolas,'Courier New',monospace\"><span style=\"font-weight: bold\"> Trainable params: </span><span style=\"color: #00af00; text-decoration-color: #00af00\">1,281</span> (5.00 KB)\n",
       "</pre>\n"
      ],
      "text/plain": [
       "\u001b[1m Trainable params: \u001b[0m\u001b[38;5;34m1,281\u001b[0m (5.00 KB)\n"
      ]
     },
     "metadata": {},
     "output_type": "display_data"
    },
    {
     "data": {
      "text/html": [
       "<pre style=\"white-space:pre;overflow-x:auto;line-height:normal;font-family:Menlo,'DejaVu Sans Mono',consolas,'Courier New',monospace\"><span style=\"font-weight: bold\"> Non-trainable params: </span><span style=\"color: #00af00; text-decoration-color: #00af00\">0</span> (0.00 B)\n",
       "</pre>\n"
      ],
      "text/plain": [
       "\u001b[1m Non-trainable params: \u001b[0m\u001b[38;5;34m0\u001b[0m (0.00 B)\n"
      ]
     },
     "metadata": {},
     "output_type": "display_data"
    },
    {
     "data": {
      "text/html": [
       "<pre style=\"white-space:pre;overflow-x:auto;line-height:normal;font-family:Menlo,'DejaVu Sans Mono',consolas,'Courier New',monospace\"><span style=\"font-weight: bold\"> Optimizer params: </span><span style=\"color: #00af00; text-decoration-color: #00af00\">2</span> (12.00 B)\n",
       "</pre>\n"
      ],
      "text/plain": [
       "\u001b[1m Optimizer params: \u001b[0m\u001b[38;5;34m2\u001b[0m (12.00 B)\n"
      ]
     },
     "metadata": {},
     "output_type": "display_data"
    }
   ],
   "source": [
    "# ANN model on Tannealing\n",
    "# -----------------------\n",
    "arch=[20,20,20]\n",
    "nnTannealing=NeuralNetwork(dbTannealing.noxide,arch,'gelu','linear')\n",
    "nnTannealing.compile(3.e-4)\n",
    "nnTannealing.ArchName(arch)\n",
    "nnTannealing.load('Models/nn'+dbTannealing.nameproperty+nnTannealing.namearch+'.h5')\n",
    "nnTannealing.info()"
   ]
  },
  {
   "cell_type": "markdown",
   "id": "4780ebd8",
   "metadata": {},
   "source": [
    "Data-set on Tmelt\n",
    "-----------------"
   ]
  },
  {
   "cell_type": "code",
   "execution_count": 190,
   "id": "2acfb119",
   "metadata": {
    "vscode": {
     "languageId": "shellscript"
    }
   },
   "outputs": [
    {
     "name": "stdout",
     "output_type": "stream",
     "text": [
      "**************\n",
      "Finished loading dataset\n",
      "Nb of samples: 5996\n",
      "Nb of components: 19\n",
      "**************\n",
      "Finished loading dataset\n",
      "Nb of samples: 5996\n",
      "Nb of components: 19\n"
     ]
    }
   ],
   "source": [
    "filedbTmelt='DataBase/Tmelt19oxides.csv'\n",
    "dbTmelt=GlassData(filedbTmelt)\n",
    "dbTmelt.info()\n",
    "dbTmelt.bounds()\n",
    "dbTmelt.normalize_y()"
   ]
  },
  {
   "cell_type": "code",
   "execution_count": 191,
   "id": "86c4014c",
   "metadata": {
    "vscode": {
     "languageId": "shellscript"
    }
   },
   "outputs": [
    {
     "name": "stderr",
     "output_type": "stream",
     "text": [
      "WARNING:absl:Compiled the loaded model, but the compiled metrics have yet to be built. `model.compile_metrics` will be empty until you train or evaluate the model.\n",
      "WARNING:absl:Error in loading the saved optimizer state. As a result, your model is starting with a freshly initialized optimizer.\n"
     ]
    },
    {
     "name": "stdout",
     "output_type": "stream",
     "text": [
      "**************\n"
     ]
    },
    {
     "data": {
      "text/html": [
       "<pre style=\"white-space:pre;overflow-x:auto;line-height:normal;font-family:Menlo,'DejaVu Sans Mono',consolas,'Courier New',monospace\"><span style=\"font-weight: bold\">Model: \"sequential_34\"</span>\n",
       "</pre>\n"
      ],
      "text/plain": [
       "\u001b[1mModel: \"sequential_34\"\u001b[0m\n"
      ]
     },
     "metadata": {},
     "output_type": "display_data"
    },
    {
     "data": {
      "text/html": [
       "<pre style=\"white-space:pre;overflow-x:auto;line-height:normal;font-family:Menlo,'DejaVu Sans Mono',consolas,'Courier New',monospace\">┏━━━━━━━━━━━━━━━━━━━━━━━━━━━━━━━━━┳━━━━━━━━━━━━━━━━━━━━━━━━┳━━━━━━━━━━━━━━━┓\n",
       "┃<span style=\"font-weight: bold\"> Layer (type)                    </span>┃<span style=\"font-weight: bold\"> Output Shape           </span>┃<span style=\"font-weight: bold\">       Param # </span>┃\n",
       "┡━━━━━━━━━━━━━━━━━━━━━━━━━━━━━━━━━╇━━━━━━━━━━━━━━━━━━━━━━━━╇━━━━━━━━━━━━━━━┩\n",
       "│ dense_116 (<span style=\"color: #0087ff; text-decoration-color: #0087ff\">Dense</span>)               │ (<span style=\"color: #00d7ff; text-decoration-color: #00d7ff\">None</span>, <span style=\"color: #00af00; text-decoration-color: #00af00\">20</span>)             │           <span style=\"color: #00af00; text-decoration-color: #00af00\">400</span> │\n",
       "├─────────────────────────────────┼────────────────────────┼───────────────┤\n",
       "│ dense_117 (<span style=\"color: #0087ff; text-decoration-color: #0087ff\">Dense</span>)               │ (<span style=\"color: #00d7ff; text-decoration-color: #00d7ff\">None</span>, <span style=\"color: #00af00; text-decoration-color: #00af00\">20</span>)             │           <span style=\"color: #00af00; text-decoration-color: #00af00\">420</span> │\n",
       "├─────────────────────────────────┼────────────────────────┼───────────────┤\n",
       "│ dense_118 (<span style=\"color: #0087ff; text-decoration-color: #0087ff\">Dense</span>)               │ (<span style=\"color: #00d7ff; text-decoration-color: #00d7ff\">None</span>, <span style=\"color: #00af00; text-decoration-color: #00af00\">20</span>)             │           <span style=\"color: #00af00; text-decoration-color: #00af00\">420</span> │\n",
       "├─────────────────────────────────┼────────────────────────┼───────────────┤\n",
       "│ dense_119 (<span style=\"color: #0087ff; text-decoration-color: #0087ff\">Dense</span>)               │ (<span style=\"color: #00d7ff; text-decoration-color: #00d7ff\">None</span>, <span style=\"color: #00af00; text-decoration-color: #00af00\">1</span>)              │            <span style=\"color: #00af00; text-decoration-color: #00af00\">21</span> │\n",
       "└─────────────────────────────────┴────────────────────────┴───────────────┘\n",
       "</pre>\n"
      ],
      "text/plain": [
       "┏━━━━━━━━━━━━━━━━━━━━━━━━━━━━━━━━━┳━━━━━━━━━━━━━━━━━━━━━━━━┳━━━━━━━━━━━━━━━┓\n",
       "┃\u001b[1m \u001b[0m\u001b[1mLayer (type)                   \u001b[0m\u001b[1m \u001b[0m┃\u001b[1m \u001b[0m\u001b[1mOutput Shape          \u001b[0m\u001b[1m \u001b[0m┃\u001b[1m \u001b[0m\u001b[1m      Param #\u001b[0m\u001b[1m \u001b[0m┃\n",
       "┡━━━━━━━━━━━━━━━━━━━━━━━━━━━━━━━━━╇━━━━━━━━━━━━━━━━━━━━━━━━╇━━━━━━━━━━━━━━━┩\n",
       "│ dense_116 (\u001b[38;5;33mDense\u001b[0m)               │ (\u001b[38;5;45mNone\u001b[0m, \u001b[38;5;34m20\u001b[0m)             │           \u001b[38;5;34m400\u001b[0m │\n",
       "├─────────────────────────────────┼────────────────────────┼───────────────┤\n",
       "│ dense_117 (\u001b[38;5;33mDense\u001b[0m)               │ (\u001b[38;5;45mNone\u001b[0m, \u001b[38;5;34m20\u001b[0m)             │           \u001b[38;5;34m420\u001b[0m │\n",
       "├─────────────────────────────────┼────────────────────────┼───────────────┤\n",
       "│ dense_118 (\u001b[38;5;33mDense\u001b[0m)               │ (\u001b[38;5;45mNone\u001b[0m, \u001b[38;5;34m20\u001b[0m)             │           \u001b[38;5;34m420\u001b[0m │\n",
       "├─────────────────────────────────┼────────────────────────┼───────────────┤\n",
       "│ dense_119 (\u001b[38;5;33mDense\u001b[0m)               │ (\u001b[38;5;45mNone\u001b[0m, \u001b[38;5;34m1\u001b[0m)              │            \u001b[38;5;34m21\u001b[0m │\n",
       "└─────────────────────────────────┴────────────────────────┴───────────────┘\n"
      ]
     },
     "metadata": {},
     "output_type": "display_data"
    },
    {
     "data": {
      "text/html": [
       "<pre style=\"white-space:pre;overflow-x:auto;line-height:normal;font-family:Menlo,'DejaVu Sans Mono',consolas,'Courier New',monospace\"><span style=\"font-weight: bold\"> Total params: </span><span style=\"color: #00af00; text-decoration-color: #00af00\">1,263</span> (4.94 KB)\n",
       "</pre>\n"
      ],
      "text/plain": [
       "\u001b[1m Total params: \u001b[0m\u001b[38;5;34m1,263\u001b[0m (4.94 KB)\n"
      ]
     },
     "metadata": {},
     "output_type": "display_data"
    },
    {
     "data": {
      "text/html": [
       "<pre style=\"white-space:pre;overflow-x:auto;line-height:normal;font-family:Menlo,'DejaVu Sans Mono',consolas,'Courier New',monospace\"><span style=\"font-weight: bold\"> Trainable params: </span><span style=\"color: #00af00; text-decoration-color: #00af00\">1,261</span> (4.93 KB)\n",
       "</pre>\n"
      ],
      "text/plain": [
       "\u001b[1m Trainable params: \u001b[0m\u001b[38;5;34m1,261\u001b[0m (4.93 KB)\n"
      ]
     },
     "metadata": {},
     "output_type": "display_data"
    },
    {
     "data": {
      "text/html": [
       "<pre style=\"white-space:pre;overflow-x:auto;line-height:normal;font-family:Menlo,'DejaVu Sans Mono',consolas,'Courier New',monospace\"><span style=\"font-weight: bold\"> Non-trainable params: </span><span style=\"color: #00af00; text-decoration-color: #00af00\">0</span> (0.00 B)\n",
       "</pre>\n"
      ],
      "text/plain": [
       "\u001b[1m Non-trainable params: \u001b[0m\u001b[38;5;34m0\u001b[0m (0.00 B)\n"
      ]
     },
     "metadata": {},
     "output_type": "display_data"
    },
    {
     "data": {
      "text/html": [
       "<pre style=\"white-space:pre;overflow-x:auto;line-height:normal;font-family:Menlo,'DejaVu Sans Mono',consolas,'Courier New',monospace\"><span style=\"font-weight: bold\"> Optimizer params: </span><span style=\"color: #00af00; text-decoration-color: #00af00\">2</span> (12.00 B)\n",
       "</pre>\n"
      ],
      "text/plain": [
       "\u001b[1m Optimizer params: \u001b[0m\u001b[38;5;34m2\u001b[0m (12.00 B)\n"
      ]
     },
     "metadata": {},
     "output_type": "display_data"
    }
   ],
   "source": [
    "# ANN model on Tmelt\n",
    "# ------------------\n",
    "arch=[20,20,20]\n",
    "nnTmelt=NeuralNetwork(dbTmelt.noxide,arch,'gelu','linear')\n",
    "nnTmelt.compile(3.e-4)\n",
    "nnTmelt.ArchName(arch)\n",
    "nnTmelt.load('Models/nn'+dbTmelt.nameproperty+nnTmelt.namearch+'.h5')\n",
    "nnTmelt.info()"
   ]
  },
  {
   "cell_type": "markdown",
   "id": "1b9d6b87",
   "metadata": {},
   "source": [
    "------------------------------\n",
    "Data-set on Tliq and ANN model\n",
    "------------------------------"
   ]
  },
  {
   "cell_type": "code",
   "execution_count": 192,
   "id": "08b147bf",
   "metadata": {
    "vscode": {
     "languageId": "shellscript"
    }
   },
   "outputs": [
    {
     "name": "stderr",
     "output_type": "stream",
     "text": [
      "<>:1: SyntaxWarning: invalid escape sequence '\\T'\n",
      "<>:1: SyntaxWarning: invalid escape sequence '\\T'\n"
     ]
    },
    {
     "name": "stdout",
     "output_type": "stream",
     "text": [
      "**************\n",
      "Finished loading dataset\n",
      "Nb of samples: 12531\n",
      "Nb of components: 20\n",
      "**************\n",
      "Finished loading dataset\n",
      "Nb of samples: 12531\n",
      "Nb of components: 20\n"
     ]
    },
    {
     "name": "stderr",
     "output_type": "stream",
     "text": [
      "C:\\Users\\lucdu\\AppData\\Local\\Temp\\ipykernel_4460\\4115716478.py:1: SyntaxWarning: invalid escape sequence '\\T'\n",
      "  filedbTliq='DataBase\\Tsoft20oxides.csv'\n"
     ]
    }
   ],
   "source": [
    "filedbTliq='DataBase\\Tsoft20oxides.csv'\n",
    "dbTliq=GlassData(filedbTliq)\n",
    "dbTliq.info()\n",
    "dbTliq.bounds()\n",
    "dbTliq.normalize_y()"
   ]
  },
  {
   "cell_type": "code",
   "execution_count": 193,
   "id": "6deb4abc",
   "metadata": {
    "vscode": {
     "languageId": "shellscript"
    }
   },
   "outputs": [
    {
     "name": "stderr",
     "output_type": "stream",
     "text": [
      "WARNING:absl:Compiled the loaded model, but the compiled metrics have yet to be built. `model.compile_metrics` will be empty until you train or evaluate the model.\n",
      "WARNING:absl:Error in loading the saved optimizer state. As a result, your model is starting with a freshly initialized optimizer.\n"
     ]
    },
    {
     "name": "stdout",
     "output_type": "stream",
     "text": [
      "**************\n"
     ]
    },
    {
     "data": {
      "text/html": [
       "<pre style=\"white-space:pre;overflow-x:auto;line-height:normal;font-family:Menlo,'DejaVu Sans Mono',consolas,'Courier New',monospace\"><span style=\"font-weight: bold\">Model: \"sequential_47\"</span>\n",
       "</pre>\n"
      ],
      "text/plain": [
       "\u001b[1mModel: \"sequential_47\"\u001b[0m\n"
      ]
     },
     "metadata": {},
     "output_type": "display_data"
    },
    {
     "data": {
      "text/html": [
       "<pre style=\"white-space:pre;overflow-x:auto;line-height:normal;font-family:Menlo,'DejaVu Sans Mono',consolas,'Courier New',monospace\">┏━━━━━━━━━━━━━━━━━━━━━━━━━━━━━━━━━┳━━━━━━━━━━━━━━━━━━━━━━━━┳━━━━━━━━━━━━━━━┓\n",
       "┃<span style=\"font-weight: bold\"> Layer (type)                    </span>┃<span style=\"font-weight: bold\"> Output Shape           </span>┃<span style=\"font-weight: bold\">       Param # </span>┃\n",
       "┡━━━━━━━━━━━━━━━━━━━━━━━━━━━━━━━━━╇━━━━━━━━━━━━━━━━━━━━━━━━╇━━━━━━━━━━━━━━━┩\n",
       "│ dense_172 (<span style=\"color: #0087ff; text-decoration-color: #0087ff\">Dense</span>)               │ (<span style=\"color: #00d7ff; text-decoration-color: #00d7ff\">None</span>, <span style=\"color: #00af00; text-decoration-color: #00af00\">20</span>)             │           <span style=\"color: #00af00; text-decoration-color: #00af00\">420</span> │\n",
       "├─────────────────────────────────┼────────────────────────┼───────────────┤\n",
       "│ dense_173 (<span style=\"color: #0087ff; text-decoration-color: #0087ff\">Dense</span>)               │ (<span style=\"color: #00d7ff; text-decoration-color: #00d7ff\">None</span>, <span style=\"color: #00af00; text-decoration-color: #00af00\">20</span>)             │           <span style=\"color: #00af00; text-decoration-color: #00af00\">420</span> │\n",
       "├─────────────────────────────────┼────────────────────────┼───────────────┤\n",
       "│ dense_174 (<span style=\"color: #0087ff; text-decoration-color: #0087ff\">Dense</span>)               │ (<span style=\"color: #00d7ff; text-decoration-color: #00d7ff\">None</span>, <span style=\"color: #00af00; text-decoration-color: #00af00\">20</span>)             │           <span style=\"color: #00af00; text-decoration-color: #00af00\">420</span> │\n",
       "├─────────────────────────────────┼────────────────────────┼───────────────┤\n",
       "│ dense_175 (<span style=\"color: #0087ff; text-decoration-color: #0087ff\">Dense</span>)               │ (<span style=\"color: #00d7ff; text-decoration-color: #00d7ff\">None</span>, <span style=\"color: #00af00; text-decoration-color: #00af00\">1</span>)              │            <span style=\"color: #00af00; text-decoration-color: #00af00\">21</span> │\n",
       "└─────────────────────────────────┴────────────────────────┴───────────────┘\n",
       "</pre>\n"
      ],
      "text/plain": [
       "┏━━━━━━━━━━━━━━━━━━━━━━━━━━━━━━━━━┳━━━━━━━━━━━━━━━━━━━━━━━━┳━━━━━━━━━━━━━━━┓\n",
       "┃\u001b[1m \u001b[0m\u001b[1mLayer (type)                   \u001b[0m\u001b[1m \u001b[0m┃\u001b[1m \u001b[0m\u001b[1mOutput Shape          \u001b[0m\u001b[1m \u001b[0m┃\u001b[1m \u001b[0m\u001b[1m      Param #\u001b[0m\u001b[1m \u001b[0m┃\n",
       "┡━━━━━━━━━━━━━━━━━━━━━━━━━━━━━━━━━╇━━━━━━━━━━━━━━━━━━━━━━━━╇━━━━━━━━━━━━━━━┩\n",
       "│ dense_172 (\u001b[38;5;33mDense\u001b[0m)               │ (\u001b[38;5;45mNone\u001b[0m, \u001b[38;5;34m20\u001b[0m)             │           \u001b[38;5;34m420\u001b[0m │\n",
       "├─────────────────────────────────┼────────────────────────┼───────────────┤\n",
       "│ dense_173 (\u001b[38;5;33mDense\u001b[0m)               │ (\u001b[38;5;45mNone\u001b[0m, \u001b[38;5;34m20\u001b[0m)             │           \u001b[38;5;34m420\u001b[0m │\n",
       "├─────────────────────────────────┼────────────────────────┼───────────────┤\n",
       "│ dense_174 (\u001b[38;5;33mDense\u001b[0m)               │ (\u001b[38;5;45mNone\u001b[0m, \u001b[38;5;34m20\u001b[0m)             │           \u001b[38;5;34m420\u001b[0m │\n",
       "├─────────────────────────────────┼────────────────────────┼───────────────┤\n",
       "│ dense_175 (\u001b[38;5;33mDense\u001b[0m)               │ (\u001b[38;5;45mNone\u001b[0m, \u001b[38;5;34m1\u001b[0m)              │            \u001b[38;5;34m21\u001b[0m │\n",
       "└─────────────────────────────────┴────────────────────────┴───────────────┘\n"
      ]
     },
     "metadata": {},
     "output_type": "display_data"
    },
    {
     "data": {
      "text/html": [
       "<pre style=\"white-space:pre;overflow-x:auto;line-height:normal;font-family:Menlo,'DejaVu Sans Mono',consolas,'Courier New',monospace\"><span style=\"font-weight: bold\"> Total params: </span><span style=\"color: #00af00; text-decoration-color: #00af00\">1,283</span> (5.02 KB)\n",
       "</pre>\n"
      ],
      "text/plain": [
       "\u001b[1m Total params: \u001b[0m\u001b[38;5;34m1,283\u001b[0m (5.02 KB)\n"
      ]
     },
     "metadata": {},
     "output_type": "display_data"
    },
    {
     "data": {
      "text/html": [
       "<pre style=\"white-space:pre;overflow-x:auto;line-height:normal;font-family:Menlo,'DejaVu Sans Mono',consolas,'Courier New',monospace\"><span style=\"font-weight: bold\"> Trainable params: </span><span style=\"color: #00af00; text-decoration-color: #00af00\">1,281</span> (5.00 KB)\n",
       "</pre>\n"
      ],
      "text/plain": [
       "\u001b[1m Trainable params: \u001b[0m\u001b[38;5;34m1,281\u001b[0m (5.00 KB)\n"
      ]
     },
     "metadata": {},
     "output_type": "display_data"
    },
    {
     "data": {
      "text/html": [
       "<pre style=\"white-space:pre;overflow-x:auto;line-height:normal;font-family:Menlo,'DejaVu Sans Mono',consolas,'Courier New',monospace\"><span style=\"font-weight: bold\"> Non-trainable params: </span><span style=\"color: #00af00; text-decoration-color: #00af00\">0</span> (0.00 B)\n",
       "</pre>\n"
      ],
      "text/plain": [
       "\u001b[1m Non-trainable params: \u001b[0m\u001b[38;5;34m0\u001b[0m (0.00 B)\n"
      ]
     },
     "metadata": {},
     "output_type": "display_data"
    },
    {
     "data": {
      "text/html": [
       "<pre style=\"white-space:pre;overflow-x:auto;line-height:normal;font-family:Menlo,'DejaVu Sans Mono',consolas,'Courier New',monospace\"><span style=\"font-weight: bold\"> Optimizer params: </span><span style=\"color: #00af00; text-decoration-color: #00af00\">2</span> (12.00 B)\n",
       "</pre>\n"
      ],
      "text/plain": [
       "\u001b[1m Optimizer params: \u001b[0m\u001b[38;5;34m2\u001b[0m (12.00 B)\n"
      ]
     },
     "metadata": {},
     "output_type": "display_data"
    }
   ],
   "source": [
    "# ANN model on Tliq\n",
    "# -----------------\n",
    "arch=[32,32,32,32]\n",
    "nnTliq=NeuralNetwork(dbTliq.noxide,arch,'gelu','linear')\n",
    "nnTliq.compile(3.e-4)\n",
    "nnTliq.ArchName(arch)\n",
    "#modelfile='Models\\nn'+dbTliq.nameproperty+nnTliq.namearch+'.h5'\n",
    "modelfile='Models/nnTsoft3c20.h5'\n",
    "nnTliq.load(modelfile)\n",
    "nnTliq.info()"
   ]
  },
  {
   "cell_type": "markdown",
   "id": "39ae57d3",
   "metadata": {},
   "source": [
    "------------------------------------------\n",
    "Determination of the bounds for each oxide\n",
    "------------------------------------------"
   ]
  },
  {
   "cell_type": "markdown",
   "id": "2288c2b2",
   "metadata": {},
   "source": [
    "# Algo genetique"
   ]
  },
  {
   "cell_type": "markdown",
   "id": "1181fa7b",
   "metadata": {},
   "source": [
    "## Variables utiles"
   ]
  },
  {
   "cell_type": "code",
   "execution_count": 194,
   "id": "40d70259",
   "metadata": {
    "vscode": {
     "languageId": "shellscript"
    }
   },
   "outputs": [
    {
     "name": "stdout",
     "output_type": "stream",
     "text": [
      "[1789.99996185   37.49200058  549.73444214  961.68375244] [7072.0000267   110.4        1190.15       2053.15061035]\n"
     ]
    }
   ],
   "source": [
    "rho_db = pd.read_csv(r'DataBase\\rho20oxides.csv', header=0)\n",
    "E_db = pd.read_csv('DataBase\\\\E20oxides.csv', header=0)\n",
    "Tg_db = pd.read_csv('DataBase\\\\Tannealing20oxides.csv', header=0)\n",
    "Tm_db = pd.read_csv('DataBase\\\\Tmelt19oxides.csv', header=0)\n",
    "\n",
    "prop_min = np.array([min(rho_db['rho']),min(E_db['E']),min(Tg_db['Tannealing']),min(Tm_db['Tmelt'])])\n",
    "prop_max = np.array([max(rho_db['rho']),max(E_db['E']),max(Tg_db['Tannealing']),max(Tm_db['Tmelt'])])\n",
    "\n",
    "print(prop_min,prop_max)"
   ]
  },
  {
   "cell_type": "code",
   "execution_count": 195,
   "id": "d6599952",
   "metadata": {
    "vscode": {
     "languageId": "shellscript"
    }
   },
   "outputs": [],
   "source": [
    "labels = dbrho.oxide\n",
    "N_oxides = len(labels)\n",
    "available_mat = ['SiO2', 'Al2O3', 'MgO', 'CaO', 'Na2O', 'K2O','ZnO', 'TiO2']\n",
    "prop_label = ['rho','E','Tg','Tmelt']\n",
    "columns = list(labels)+prop_label+['F']\n",
    "\n",
    "#Contraintes\n",
    "xmaxt=np.array([dbrho.xmax,dbE.xmax,dbTannealing.xmax,np.append(dbTmelt.xmax,1.),dbTliq.xmax])\n",
    "xmax=np.zeros(dbrho.noxide)\n",
    "for i in range(dbrho.noxide):\n",
    "    if dbrho.oxide[i] in available_mat:\n",
    "        xmax[i]=np.min(xmaxt[:,i])\n",
    "\n",
    "xmin = np.zeros(dbrho.noxide)\n",
    "xmin[list(dbrho.oxide).index('SiO2')] = 0.5\n",
    "xmin[list(dbrho.oxide).index('Na2O')] = 0.1\n",
    "\n",
    "#Parametres fitness function\n",
    "#L'ordre des parametres est ['rho','E','Tg','Tmelt']\n",
    "weight=[0,0.4,0,0.6]\n",
    "minimize=[True,False,False,True]\n",
    "penalties_onMin = [-np.inf, 50, -np.inf, -np.inf]\n",
    "penalties_onMax = [np.inf, np.inf, np.inf, 1700]\n",
    "\n",
    "N_generations = 1\n",
    "N_population = 4\n",
    "\n",
    "survivor_rate = 0.25\n",
    "parent_rate = 1\n",
    "child_rate = 0.5\n",
    "mutation_rate = 0\n",
    "immigration_rate = 1 - survivor_rate - child_rate\n",
    "\n",
    "strategies = ['China','tournament']\n",
    "N_tournament = 5\n",
    "child_strategy = strategies[0]\n",
    "\n",
    "#population = np.zeros((N_population,len(labels) + len(prop_label) + 1))\n",
    "\n",
    "N_parents = int(parent_rate * N_population)\n",
    "N_childs = int(child_rate * N_population)\n",
    "N_mutants = int(0.1 * N_population)\n",
    "\n",
    "epsilon = 0.05\n",
    "\n",
    "log_min_max = []"
   ]
  },
  {
   "cell_type": "markdown",
   "id": "57888066",
   "metadata": {},
   "source": [
    "## Creation de generations"
   ]
  },
  {
   "cell_type": "code",
   "execution_count": 196,
   "id": "dfad56bd",
   "metadata": {
    "vscode": {
     "languageId": "shellscript"
    }
   },
   "outputs": [],
   "source": [
    "def prop_calculation(composition):\n",
    "    global log_min_max\n",
    "    rho=dbrho.GlassDensity(nnmolvol,dbrho.oxide,composition)\n",
    "    E=dbE.YoungModulus(nnmodelEsG,datadisso,dbE.oxide,composition)\n",
    "    Tg=dbTannealing.physicaly(nnTannealing.model.predict(composition).transpose()[0,:])\n",
    "    Tmelt=dbTmelt.physicaly(nnTmelt.model.predict(composition[:,:-1]).transpose()[0,:])\n",
    "    log_min_max.append([np.min(E),np.max(E),np.min(Tmelt),np.max(Tmelt)])\n",
    "    return np.vstack((rho,E,Tg,Tmelt)).transpose()"
   ]
  },
  {
   "cell_type": "code",
   "execution_count": 197,
   "id": "54e7c480",
   "metadata": {
    "vscode": {
     "languageId": "shellscript"
    }
   },
   "outputs": [],
   "source": [
    "def normalize(prop):\n",
    "    #return (prop - prop.min(axis=0))/(prop.max(axis=0)-prop.min(axis=0))\n",
    "    return (prop - prop_min)/(prop_max - prop_min)"
   ]
  },
  {
   "cell_type": "code",
   "execution_count": 198,
   "id": "24b9d5f6",
   "metadata": {
    "vscode": {
     "languageId": "shellscript"
    }
   },
   "outputs": [],
   "source": [
    "penalties_onMin_normalized = normalize(penalties_onMin)\n",
    "penalties_onMax_normalized = normalize(penalties_onMax)"
   ]
  },
  {
   "cell_type": "code",
   "execution_count": 199,
   "id": "c6693e90",
   "metadata": {
    "vscode": {
     "languageId": "shellscript"
    }
   },
   "outputs": [],
   "source": [
    "def fitness(property_normalized):\n",
    "    rating = 0\n",
    "    #print(penalties_onMin_normalized, property_normalized, penalties_onMax_normalized)\n",
    "    #print(np.all(penalties_onMin_normalized <= property_normalized) and np.all(penalties_onMax_normalized >= property_normalized))\n",
    "    if np.all(penalties_onMin_normalized <= property_normalized) and np.all(penalties_onMax_normalized >= property_normalized):\n",
    "        for i in range(len(weight)):\n",
    "            if minimize[i]:\n",
    "                rating += (1-property_normalized[i])*weight[i]\n",
    "            else:\n",
    "                rating += property_normalized[i]*weight[i]\n",
    "    return rating"
   ]
  },
  {
   "cell_type": "code",
   "execution_count": 200,
   "id": "2c9b3fe4",
   "metadata": {
    "vscode": {
     "languageId": "shellscript"
    }
   },
   "outputs": [],
   "source": [
    "#prop est une array avec les proprietes du verre normalisées, weight est le poids qu'on accorde\n",
    "#à chacune des proprietes, et minize est une liste de booléens selon qu'on veuille minimiser\n",
    "#ou maximiser une certaine variable\n",
    "'''def fitness_func(prop_normalized,weight,minimize):\n",
    "    rating = np.zeros(prop_normalized.shape[0])\n",
    "    for i in range(len(weight)):\n",
    "        if minimize[i]:\n",
    "            rating += (1-prop_normalized[:,i])*weight[i]\n",
    "        else:\n",
    "            rating += prop_normalized[:,i]*weight[i]\n",
    "    return rating'''\n",
    "def fitness_func(prop_normalized):\n",
    "    return np.apply_along_axis(fitness,1,prop_normalized)"
   ]
  },
  {
   "cell_type": "code",
   "execution_count": 201,
   "id": "cd1ef1cc",
   "metadata": {
    "vscode": {
     "languageId": "shellscript"
    }
   },
   "outputs": [],
   "source": [
    "# Trie la population par F decroissant et renvoie cette population triée avec une nuovelle colonne qui represente \n",
    "# le fitness de chaque composition.\n",
    "def stack_by_f(population,properties,F):\n",
    "    population_info = np.column_stack((population,properties,F))\n",
    "    sorted_arr = population_info[population_info[:, -1].argsort()][::-1]\n",
    "    return sorted_arr"
   ]
  },
  {
   "cell_type": "code",
   "execution_count": 202,
   "id": "94bfcf85",
   "metadata": {
    "vscode": {
     "languageId": "shellscript"
    }
   },
   "outputs": [],
   "source": [
    "def init_properties(population):\n",
    "    prop = prop_calculation(population)\n",
    "    normalized_prop = normalize(prop)\n",
    "    F = fitness_func(normalized_prop)\n",
    "    #print(F)\n",
    "    sorted_arr = stack_by_f(population, prop, F)\n",
    "    return sorted_arr"
   ]
  },
  {
   "cell_type": "code",
   "execution_count": 203,
   "id": "25361699",
   "metadata": {
    "vscode": {
     "languageId": "shellscript"
    }
   },
   "outputs": [],
   "source": [
    "def compute_properties(generation):\n",
    "    population_sorted = init_properties(generation[:, :20])\n",
    "    return population_sorted"
   ]
  },
  {
   "cell_type": "code",
   "execution_count": 204,
   "id": "9b5f8de0",
   "metadata": {
    "vscode": {
     "languageId": "shellscript"
    }
   },
   "outputs": [],
   "source": [
    "def init_pop(N_population):\n",
    "    population,_=dbrho.better_random_composition(N_population,xmin,xmax)\n",
    "    population = init_properties(population)\n",
    "    return population"
   ]
  },
  {
   "cell_type": "code",
   "execution_count": 205,
   "id": "6908a33a",
   "metadata": {
    "vscode": {
     "languageId": "shellscript"
    }
   },
   "outputs": [],
   "source": [
    "def parent_choice (parents,strategie) :\n",
    "    if strategie =='China' and N_parents>= 2*N_childs:\n",
    "        dads = parents[::2]\n",
    "        moms = parents[1::2]\n",
    "        return (np.array(moms[:N_childs]),np.array(dads[:N_childs]))    \n",
    "    if strategie =='tournament':\n",
    "        dads =[]\n",
    "        moms =[]\n",
    "        for i in range(N_childs):\n",
    "            t = np.array([parents[i,:] for i in np.random.choice(N_parents,N_childs)])\n",
    "            dad = t[np.argmax(t[:N_tournament,-1])]\n",
    "            mom = t[np.argmax(t[N_tournament:,-1])]\n",
    "            dads.append(dad)\n",
    "            moms.append(mom)\n",
    "        return (np.array(moms),np.array(dads))\n",
    "    #Fallback\n",
    "    t = np.array([parents[i] for i in np.random.choice(N_parents,N_childs*2)])\n",
    "    return (np.array(t[N_childs:]),np.array(t[:N_childs]))"
   ]
  },
  {
   "cell_type": "code",
   "execution_count": 206,
   "id": "8f103a93",
   "metadata": {
    "vscode": {
     "languageId": "shellscript"
    }
   },
   "outputs": [],
   "source": [
    "def population_selection(generation):\n",
    "    survivors = generation[:int(N_population*survivor_rate)]\n",
    "    dads,moms = parent_choice(generation[:N_parents],child_strategy)\n",
    "    #to_be_mutated = sorted_population[int(N_population*survivor_rate):int(N_population*survivor_rate)+int(N_population*mutation_rate)]\n",
    "    return survivors,dads,moms "
   ]
  },
  {
   "cell_type": "code",
   "execution_count": 207,
   "id": "1cf3914f",
   "metadata": {
    "vscode": {
     "languageId": "shellscript"
    }
   },
   "outputs": [
    {
     "data": {
      "text/plain": [
       "'def crossover (parents) :\\n    #Dans parents chaque individu est représenté par 20 premiers floats et le dernier est la valeur de fitness\\n    childs = np.array([[0.] * len(parents[0])] * N_childs)\\n    for i in range (N_childs) :\\n        i1 = randint(0, N_parents-1)\\n        i2 = randint(0, N_parents-2)\\n        if i2 == i1 : #problème si deux fois le même parent !!\\n            i2 += 1\\n        w1 = parents[i1, -1] / (parents[i1, -1] + parents[i2, -1]) #poids du parent 1\\n        w2 = parents[i2, -1] / (parents[i1, -1] + parents[i2, -1]) #poids du parent 2\\n        childs[i] = (w1 * parents[i1] + w2 * parents[i2]) #moyenne pondérée\\n    return (childs)'"
      ]
     },
     "execution_count": 207,
     "metadata": {},
     "output_type": "execute_result"
    }
   ],
   "source": [
    "'''def crossover (parents) :\n",
    "    #Dans parents chaque individu est représenté par 20 premiers floats et le dernier est la valeur de fitness\n",
    "    childs = np.array([[0.] * len(parents[0])] * N_childs)\n",
    "    for i in range (N_childs) :\n",
    "        i1 = randint(0, N_parents-1)\n",
    "        i2 = randint(0, N_parents-2)\n",
    "        if i2 == i1 : #problème si deux fois le même parent !!\n",
    "            i2 += 1\n",
    "        w1 = parents[i1, -1] / (parents[i1, -1] + parents[i2, -1]) #poids du parent 1\n",
    "        w2 = parents[i2, -1] / (parents[i1, -1] + parents[i2, -1]) #poids du parent 2\n",
    "        childs[i] = (w1 * parents[i1] + w2 * parents[i2]) #moyenne pondérée\n",
    "    return (childs)'''"
   ]
  },
  {
   "cell_type": "code",
   "execution_count": 208,
   "id": "b972a5e4",
   "metadata": {
    "vscode": {
     "languageId": "shellscript"
    }
   },
   "outputs": [
    {
     "data": {
      "text/plain": [
       "'def crossover (mom, dad) :\\n    childs = np.zeros((len(mom), len(mom[0])))\\n    for i in range (N_childs) :\\n        wMomTm = mom[i, 23] / (mom[i, 23] + dad[i, 23])\\n        wDadTm = dad[i, 23] / (mom[i, 23] + dad[i, 23])\\n        wMomE = mom[i, 21] / (mom[i, 21] + dad[i, 21])\\n        wDadE = dad[i, 21] / (mom[i, 21] + dad[i, 21])\\n        childs[i][fondants] = wMomTm * mom[i][fondants] + wDadTm * dad[i][fondants]\\n        childs[i][durability] = wMomE * mom[i][durability] + wDadE * dad[i][durability]\\n        childs[i][other] = (mom[i][other] + dad[i][other])/2\\n    return (childs)'"
      ]
     },
     "execution_count": 208,
     "metadata": {},
     "output_type": "execute_result"
    }
   ],
   "source": [
    "# températures de fusion des oxydes (en °C) : \n",
    "# [1610, 2045, 2852, 2580]\n",
    "# dureté des oxydes :\n",
    "# [7, 9, 5.5]\n",
    "# TiO2 est un agent nucléant utilisé pour les plaques vitrocéramiques (très faible coeff de dilatation thermique).\n",
    "# source : L'élémentarium\n",
    "\n",
    "# fondants = ['Na2O', 'K2O', 'MgO']\n",
    "# stabilisants = ['CaO', 'ZnO']\n",
    "# ZnO augmente l'élasticité\n",
    "# source : https://lasirene.e-monsite.com/pages/le-verre/-.html\n",
    "\n",
    "# formateurs = ['SiO2']\n",
    "# SiO2 augmente la dureté du verre\n",
    "# fondants = ['Na2O', 'K2O', 'MgO']\n",
    "# stabilisants = ['CaO', 'ZnO']\n",
    "# source : https://infovitrail.com/contenu.php/fr/d/---la-composition-du-verre/e9b609c9-91f5-4a08-86a6-6112dc12b66d\n",
    "\n",
    "# fondants = ['Na2O', 'K2O'] + ['CaO', 'MgO'] (mais moins bien que les deux premiers)\n",
    "# modificateurs = ['CaO', 'MgO', 'Al2O3'] #augmentent les propriétés de durabilité chimique et mécanique (E ??)\n",
    "# formateurs = ['SiO2'] #essentiels\n",
    "# source : Franck\n",
    "\n",
    "fondants = [False, False, False, True, True, False, False, True, True, False, False, False, False, False, False, False, False, False, False, False, False, False, False, False, False] # diminuent Tm\n",
    "durability = [True, False, True, False, False, False, False, False, False, False, False, False, False, False, False, False, False, False, False, False, False, False, False, False, False] #augmentent E\n",
    "other = [False, False, False, False, False, False, False, False, False, True, False, False, False, False, False, True, False, False, False, False, False, False, False, False, False]\n",
    "\n",
    "def crossover (mom, dad) :\n",
    "    childs = np.zeros((len(mom), len(mom[0])))\n",
    "    for i in range (N_childs) :\n",
    "        #print(mom)\n",
    "        #print(dad)\n",
    "        if mom[i, 21] < dad[i, 21] : #choix du meilleur E\n",
    "            bestE = dad[i]\n",
    "        else :\n",
    "            bestE = mom[i]\n",
    "        if mom[i, 23] < dad[i, 23] : #choix du meilleur Tm\n",
    "            bestTm = mom[i]\n",
    "        else :\n",
    "            bestTm = dad[i]\n",
    "        childs[i][fondants] = bestTm[fondants]\n",
    "        childs[i][durability] = bestE[durability]\n",
    "        childs[i][other] = (mom[i][other] + dad[i][other])/2\n",
    "        sum = np.sum(childs[i,1:])\n",
    "        childs[i,1:] = (1-childs[i,0]) * childs[i,1:] / sum\n",
    "    return (childs)\n",
    "\n",
    "'''def crossover (mom, dad) :\n",
    "    childs = np.zeros((len(mom), len(mom[0])))\n",
    "    for i in range (N_childs) :\n",
    "        wMomTm = mom[i, 23] / (mom[i, 23] + dad[i, 23])\n",
    "        wDadTm = dad[i, 23] / (mom[i, 23] + dad[i, 23])\n",
    "        wMomE = mom[i, 21] / (mom[i, 21] + dad[i, 21])\n",
    "        wDadE = dad[i, 21] / (mom[i, 21] + dad[i, 21])\n",
    "        childs[i][fondants] = wMomTm * mom[i][fondants] + wDadTm * dad[i][fondants]\n",
    "        childs[i][durability] = wMomE * mom[i][durability] + wDadE * dad[i][durability]\n",
    "        childs[i][other] = (mom[i][other] + dad[i][other])/2\n",
    "    return (childs)'''"
   ]
  },
  {
   "cell_type": "code",
   "execution_count": 209,
   "id": "1cd75ef7",
   "metadata": {
    "vscode": {
     "languageId": "shellscript"
    }
   },
   "outputs": [],
   "source": [
    "def mutation (mutants) :\n",
    "    #les mutants sont les meilleures compositions entre 40% et 50%\n",
    "    for j in range (N_mutants) :\n",
    "        iplus = randint(0, 19) #choix de l'oxyde qui gagne epsilon\n",
    "        imoins = randint(0, 19) #choix de l'oxyde qui perd epsilon\n",
    "        if imoins == iplus : #problème si deux fois le même oxyde !!\n",
    "            imoins = (1 + imoins)%19\n",
    "        mutantPlus = mutants[j, iplus]\n",
    "        mutantMoins = mutants[j, imoins]\n",
    "        if (mutantMoins > epsilon + xmin[j]) and (mutantPlus < xmax[j] - epsilon) :\n",
    "            mutants[j, iplus] = mutantPlus + epsilon\n",
    "            mutants[j, imoins] = mutantMoins - epsilon\n",
    "    return (mutants)"
   ]
  },
  {
   "cell_type": "code",
   "execution_count": 210,
   "id": "3c2491d3",
   "metadata": {
    "vscode": {
     "languageId": "shellscript"
    }
   },
   "outputs": [],
   "source": [
    "def new_generation(old_generation):\n",
    "    survivors,dads,moms = population_selection(old_generation)\n",
    "    child = crossover(dads,moms)\n",
    "    immigrants = init_pop(N_population - (len(survivors) + len(child)))\n",
    "    new_population = np.vstack((np.vstack((survivors,child)),immigrants))\n",
    "    new_population = compute_properties(new_population)\n",
    "    return new_population"
   ]
  },
  {
   "cell_type": "code",
   "execution_count": 211,
   "id": "33a0025d",
   "metadata": {
    "vscode": {
     "languageId": "shellscript"
    }
   },
   "outputs": [],
   "source": [
    "def evolution(generation,N,graphe = True):\n",
    "    global log_min_max\n",
    "    convergence_graph = []\n",
    "    for _ in range(N):\n",
    "        generation = new_generation(generation)\n",
    "        fit_score = np.mean(generation[:1],axis = 0)[-1]\n",
    "        convergence_graph.append(fit_score)\n",
    "    if graphe:\n",
    "        log_min_max = np.array(log_min_max)\n",
    "        plt.plot(np.arange(N),convergence_graph)\n",
    "        plt.title('evolution of the generational fitness')\n",
    "        plt.show()\n",
    "        plt.plot(np.arange(len(log_min_max[::2,3])),log_min_max[::2,2],'r')\n",
    "        plt.plot(np.arange(len(log_min_max[::2,3])),log_min_max[::2,3],'g')\n",
    "        plt.title('evolution of the generational fitness')\n",
    "        \n",
    "    return generation"
   ]
  },
  {
   "cell_type": "code",
   "execution_count": 212,
   "id": "bc1b834d",
   "metadata": {
    "vscode": {
     "languageId": "shellscript"
    }
   },
   "outputs": [
    {
     "data": {
      "text/plain": [
       "(4, 20)"
      ]
     },
     "execution_count": 212,
     "metadata": {},
     "output_type": "execute_result"
    }
   ],
   "source": [
    "compo = pd.read_csv('compo_par_main.csv')\n",
    "compo = compo.to_numpy()\n",
    "np.shape(compo)"
   ]
  },
  {
   "cell_type": "code",
   "execution_count": 213,
   "id": "cf097d41",
   "metadata": {
    "vscode": {
     "languageId": "shellscript"
    }
   },
   "outputs": [
    {
     "name": "stdout",
     "output_type": "stream",
     "text": [
      "\u001b[1m1/1\u001b[0m \u001b[32m━━━━━━━━━━━━━━━━━━━━\u001b[0m\u001b[37m\u001b[0m \u001b[1m0s\u001b[0m 59ms/step\n",
      "\u001b[1m1/1\u001b[0m \u001b[32m━━━━━━━━━━━━━━━━━━━━\u001b[0m\u001b[37m\u001b[0m \u001b[1m0s\u001b[0m 62ms/step\n",
      "\u001b[1m1/1\u001b[0m \u001b[32m━━━━━━━━━━━━━━━━━━━━\u001b[0m\u001b[37m\u001b[0m \u001b[1m0s\u001b[0m 57ms/step\n",
      "\u001b[1m1/1\u001b[0m \u001b[32m━━━━━━━━━━━━━━━━━━━━\u001b[0m\u001b[37m\u001b[0m \u001b[1m0s\u001b[0m 53ms/step\n"
     ]
    },
    {
     "data": {
      "text/plain": [
       "array([[2762.08777923,   70.24124329,  800.22003174, 1681.0390625 ],\n",
       "       [2708.58808613,   79.94421641,  806.36230469, 1667.13037109],\n",
       "       [2568.5916068 ,   71.9659243 ,  788.86755371, 1580.13452148],\n",
       "       [2557.77029938,   74.44426012,  817.65216064, 1644.85986328]])"
      ]
     },
     "execution_count": 213,
     "metadata": {},
     "output_type": "execute_result"
    }
   ],
   "source": [
    "prop_calculation(compo)"
   ]
  },
  {
   "cell_type": "code",
   "execution_count": 214,
   "id": "0ebffe0e",
   "metadata": {
    "vscode": {
     "languageId": "shellscript"
    }
   },
   "outputs": [
    {
     "name": "stdout",
     "output_type": "stream",
     "text": [
      "\u001b[1m1/1\u001b[0m \u001b[32m━━━━━━━━━━━━━━━━━━━━\u001b[0m\u001b[37m\u001b[0m \u001b[1m0s\u001b[0m 19ms/step\n",
      "\u001b[1m1/1\u001b[0m \u001b[32m━━━━━━━━━━━━━━━━━━━━\u001b[0m\u001b[37m\u001b[0m \u001b[1m0s\u001b[0m 32ms/step\n",
      "\u001b[1m1/1\u001b[0m \u001b[32m━━━━━━━━━━━━━━━━━━━━\u001b[0m\u001b[37m\u001b[0m \u001b[1m0s\u001b[0m 16ms/step\n",
      "\u001b[1m1/1\u001b[0m \u001b[32m━━━━━━━━━━━━━━━━━━━━\u001b[0m\u001b[37m\u001b[0m \u001b[1m0s\u001b[0m 16ms/step\n"
     ]
    }
   ],
   "source": [
    "compo = compute_properties(compo)"
   ]
  },
  {
   "cell_type": "code",
   "execution_count": 215,
   "id": "05ab85bb",
   "metadata": {
    "vscode": {
     "languageId": "shellscript"
    }
   },
   "outputs": [
    {
     "name": "stdout",
     "output_type": "stream",
     "text": [
      "\u001b[1m1/1\u001b[0m \u001b[32m━━━━━━━━━━━━━━━━━━━━\u001b[0m\u001b[37m\u001b[0m \u001b[1m0s\u001b[0m 73ms/step\n",
      "\u001b[1m1/1\u001b[0m \u001b[32m━━━━━━━━━━━━━━━━━━━━\u001b[0m\u001b[37m\u001b[0m \u001b[1m0s\u001b[0m 52ms/step\n",
      "\u001b[1m1/1\u001b[0m \u001b[32m━━━━━━━━━━━━━━━━━━━━\u001b[0m\u001b[37m\u001b[0m \u001b[1m0s\u001b[0m 59ms/step\n",
      "\u001b[1m1/1\u001b[0m \u001b[32m━━━━━━━━━━━━━━━━━━━━\u001b[0m\u001b[37m\u001b[0m \u001b[1m0s\u001b[0m 63ms/step\n",
      "\u001b[1m1/1\u001b[0m \u001b[32m━━━━━━━━━━━━━━━━━━━━\u001b[0m\u001b[37m\u001b[0m \u001b[1m0s\u001b[0m 37ms/step\n",
      "\u001b[1m1/1\u001b[0m \u001b[32m━━━━━━━━━━━━━━━━━━━━\u001b[0m\u001b[37m\u001b[0m \u001b[1m0s\u001b[0m 18ms/step\n",
      "\u001b[1m1/1\u001b[0m \u001b[32m━━━━━━━━━━━━━━━━━━━━\u001b[0m\u001b[37m\u001b[0m \u001b[1m0s\u001b[0m 28ms/step\n",
      "\u001b[1m1/1\u001b[0m \u001b[32m━━━━━━━━━━━━━━━━━━━━\u001b[0m\u001b[37m\u001b[0m \u001b[1m0s\u001b[0m 33ms/step\n"
     ]
    },
    {
     "data": {
      "image/png": "[encoded data removed]",
      "text/plain": [
       "<Figure size 640x480 with 1 Axes>"
      ]
     },
     "metadata": {},
     "output_type": "display_data"
    },
    {
     "data": {
      "text/plain": [
       "array([[7.00000000e-01, 0.00000000e+00, 0.00000000e+00, 0.00000000e+00,\n",
       "        1.20000000e-01, 0.00000000e+00, 0.00000000e+00, 1.20000000e-01,\n",
       "        0.00000000e+00, 2.00000000e-02, 0.00000000e+00, 0.00000000e+00,\n",
       "        0.00000000e+00, 0.00000000e+00, 0.00000000e+00, 4.00000000e-02,\n",
       "        0.00000000e+00, 0.00000000e+00, 0.00000000e+00, 0.00000000e+00,\n",
       "        2.60981600e+03, 7.75758367e+01, 8.57146729e+02, 1.63474841e+03,\n",
       "        4.49918224e-01],\n",
       "       [6.00000000e-01, 0.00000000e+00, 0.00000000e+00, 1.00000000e-01,\n",
       "        1.00000000e-01, 0.00000000e+00, 0.00000000e+00, 1.00000000e-01,\n",
       "        1.00000000e-01, 0.00000000e+00, 0.00000000e+00, 0.00000000e+00,\n",
       "        0.00000000e+00, 0.00000000e+00, 0.00000000e+00, 0.00000000e+00,\n",
       "        0.00000000e+00, 0.00000000e+00, 0.00000000e+00, 0.00000000e+00,\n",
       "        2.56859161e+03, 7.19659243e+01, 7.88867554e+02, 1.58013452e+03,\n",
       "        4.49162479e-01],\n",
       "       [5.00000000e-01, 0.00000000e+00, 5.10204082e-02, 1.02040816e-01,\n",
       "        1.02040816e-01, 0.00000000e+00, 0.00000000e+00, 1.02040816e-01,\n",
       "        1.02040816e-01, 1.53061224e-02, 0.00000000e+00, 0.00000000e+00,\n",
       "        0.00000000e+00, 0.00000000e+00, 0.00000000e+00, 2.55102041e-02,\n",
       "        0.00000000e+00, 0.00000000e+00, 0.00000000e+00, 0.00000000e+00,\n",
       "        2.65461130e+03, 7.55331358e+01, 7.87024109e+02, 1.63975427e+03,\n",
       "        4.35959402e-01],\n",
       "       [5.68009867e-01, 0.00000000e+00, 1.18122657e-01, 3.64377373e-02,\n",
       "        1.48598307e-02, 0.00000000e+00, 0.00000000e+00, 1.23771234e-01,\n",
       "        5.28507920e-02, 8.08869880e-02, 0.00000000e+00, 0.00000000e+00,\n",
       "        0.00000000e+00, 0.00000000e+00, 0.00000000e+00, 5.06089420e-03,\n",
       "        0.00000000e+00, 0.00000000e+00, 0.00000000e+00, 0.00000000e+00,\n",
       "        2.63390665e+03, 7.68355456e+01, 8.84404358e+02, 1.84627271e+03,\n",
       "        0.00000000e+00]])"
      ]
     },
     "execution_count": 215,
     "metadata": {},
     "output_type": "execute_result"
    },
    {
     "data": {
      "image/png": "[encoded data removed]",
      "text/plain": [
       "<Figure size 640x480 with 1 Axes>"
      ]
     },
     "metadata": {},
     "output_type": "display_data"
    }
   ],
   "source": [
    "evolution(compo, 1)"
   ]
  },
  {
   "cell_type": "code",
   "execution_count": null,
   "id": "e376026c",
   "metadata": {
    "vscode": {
     "languageId": "shellscript"
    }
   },
   "outputs": [],
   "source": []
  }
 ],
 "metadata": {
  "jupytext": {
   "cell_metadata_filter": "-all",
   "encoding": "# -*- coding: utf-8 -*-",
   "executable": "/usr/bin/env python3",
   "formats": "ipynb,py:percent",
   "main_language": "python"
  },
  "kernelspec": {
   "display_name": "base",
   "language": "python",
   "name": "python3"
  },
  "language_info": {
   "codemirror_mode": {
    "name": "ipython",
    "version": 3
   },
   "file_extension": ".py",
   "mimetype": "text/x-python",
   "name": "python",
   "nbconvert_exporter": "python",
   "pygments_lexer": "ipython3",
   "version": "3.12.4"
  }
 },
 "nbformat": 4,
 "nbformat_minor": 5
}
